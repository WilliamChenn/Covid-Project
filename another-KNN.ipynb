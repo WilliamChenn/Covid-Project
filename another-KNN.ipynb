{
 "cells": [
  {
   "cell_type": "code",
   "execution_count": 1,
   "metadata": {},
   "outputs": [],
   "source": [
    "import matplotlib.pyplot as plt\n",
    "%matplotlib inline\n",
    "plt.rcParams['figure.dpi'] = 70 #display 70 dpi in Jupyter Notebook, may consider100 dpi \n",
    "plt.rcParams['savefig.dpi'] = 300 #define 300 dpi for saving figures\n",
    "\n",
    "import seaborn as sns\n",
    "## here are some settings \n",
    "sns.set_style('whitegrid')\n",
    "sns.set(rc={\"figure.dpi\":70, 'savefig.dpi':300}) #defining dpi setting\n",
    "sns.set_context('notebook')\n",
    "sns.set_style(\"ticks\")\n",
    "from IPython.display import set_matplotlib_formats\n",
    "set_matplotlib_formats('retina')"
   ]
  },
  {
   "cell_type": "code",
   "execution_count": 2,
   "metadata": {},
   "outputs": [
    {
     "name": "stdout",
     "output_type": "stream",
     "text": [
      "Hello World\n",
      "---Run time is 0.00023340699999963022 seconds ---\n",
      "\n"
     ]
    }
   ],
   "source": [
    "# Tells matplotlib to display images inline instead of a new window\n",
    "%matplotlib inline\n",
    "\n",
    "import pandas as pd\n",
    "import numpy as np\n",
    "import matplotlib.pyplot as plt\n",
    "import seaborn as sns\n",
    "\n",
    "from time import time\n",
    "import timeit #imports timeit module\n",
    "start_time = timeit.default_timer() #defines start time so computational time can be calculated\n",
    "print(\"Hello World\")\n",
    "elapsed = timeit.default_timer() - start_time #gives total computation time\n",
    "print(\"---Run time is %s seconds ---\" % elapsed) #prints computation time\n",
    "print()"
   ]
  },
  {
   "cell_type": "code",
   "execution_count": 3,
   "metadata": {},
   "outputs": [],
   "source": [
    "import statsmodels.api as sm\n",
    "import statsmodels.formula.api as smf\n",
    "from sklearn.preprocessing import PolynomialFeatures\n",
    "\n",
    "import sklearn.linear_model as skl_lm\n",
    "from sklearn.linear_model import LinearRegression\n",
    "from sklearn.linear_model import LogisticRegression\n",
    "from sklearn.linear_model import LogisticRegressionCV\n",
    "from sklearn import neighbors\n",
    "\n",
    "from sklearn.model_selection import cross_val_score\n",
    "from sklearn.model_selection import KFold\n",
    "from sklearn.model_selection import LeaveOneOut\n",
    "\n",
    "from sklearn.metrics import confusion_matrix\n",
    "from sklearn.metrics import classification_report\n",
    "from sklearn.metrics import accuracy_score"
   ]
  },
  {
   "cell_type": "code",
   "execution_count": 4,
   "metadata": {},
   "outputs": [
    {
     "name": "stdout",
     "output_type": "stream",
     "text": [
      "/Users/chenc/000---STT450-Jupyter Notebook/000--STT450-550/ISLR_JWarmenhoven_JCrouser/Chap5\n"
     ]
    }
   ],
   "source": [
    "import os\n",
    "cwd = os.getcwd()\n",
    "print(cwd)\n",
    "os.chdir('/Users/chenc/000---STT450-Jupyter Notebook/000--STT450-550/') "
   ]
  },
  {
   "cell_type": "code",
   "execution_count": 5,
   "metadata": {},
   "outputs": [
    {
     "name": "stdout",
     "output_type": "stream",
     "text": [
      "(10000, 4)\n",
      "\n",
      "            balance        income\n",
      "count  10000.000000  10000.000000\n",
      "mean     835.374886  33516.981876\n",
      "std      483.714985  13336.639563\n",
      "min        0.000000    771.967729\n",
      "25%      481.731105  21340.462903\n",
      "50%      823.636973  34552.644802\n",
      "75%     1166.308386  43807.729272\n",
      "max     2654.322576  73554.233495\n",
      "\n",
      "<class 'pandas.core.frame.DataFrame'>\n",
      "Int64Index: 10000 entries, 0 to 9999\n",
      "Data columns (total 4 columns):\n",
      " #   Column   Non-Null Count  Dtype  \n",
      "---  ------   --------------  -----  \n",
      " 0   default  10000 non-null  object \n",
      " 1   student  10000 non-null  object \n",
      " 2   balance  10000 non-null  float64\n",
      " 3   income   10000 non-null  float64\n",
      "dtypes: float64(2), object(2)\n",
      "memory usage: 390.6+ KB\n"
     ]
    },
    {
     "data": {
      "text/html": [
       "<div>\n",
       "<style scoped>\n",
       "    .dataframe tbody tr th:only-of-type {\n",
       "        vertical-align: middle;\n",
       "    }\n",
       "\n",
       "    .dataframe tbody tr th {\n",
       "        vertical-align: top;\n",
       "    }\n",
       "\n",
       "    .dataframe thead th {\n",
       "        text-align: right;\n",
       "    }\n",
       "</style>\n",
       "<table border=\"1\" class=\"dataframe\">\n",
       "  <thead>\n",
       "    <tr style=\"text-align: right;\">\n",
       "      <th></th>\n",
       "      <th>default</th>\n",
       "      <th>student</th>\n",
       "      <th>balance</th>\n",
       "      <th>income</th>\n",
       "    </tr>\n",
       "  </thead>\n",
       "  <tbody>\n",
       "    <tr>\n",
       "      <th>0</th>\n",
       "      <td>No</td>\n",
       "      <td>No</td>\n",
       "      <td>729.526495</td>\n",
       "      <td>44361.625074</td>\n",
       "    </tr>\n",
       "    <tr>\n",
       "      <th>1</th>\n",
       "      <td>No</td>\n",
       "      <td>Yes</td>\n",
       "      <td>817.180407</td>\n",
       "      <td>12106.134700</td>\n",
       "    </tr>\n",
       "    <tr>\n",
       "      <th>2</th>\n",
       "      <td>No</td>\n",
       "      <td>No</td>\n",
       "      <td>1073.549164</td>\n",
       "      <td>31767.138947</td>\n",
       "    </tr>\n",
       "    <tr>\n",
       "      <th>3</th>\n",
       "      <td>No</td>\n",
       "      <td>No</td>\n",
       "      <td>529.250605</td>\n",
       "      <td>35704.493935</td>\n",
       "    </tr>\n",
       "    <tr>\n",
       "      <th>4</th>\n",
       "      <td>No</td>\n",
       "      <td>No</td>\n",
       "      <td>785.655883</td>\n",
       "      <td>38463.495879</td>\n",
       "    </tr>\n",
       "  </tbody>\n",
       "</table>\n",
       "</div>"
      ],
      "text/plain": [
       "  default student      balance        income\n",
       "0      No      No   729.526495  44361.625074\n",
       "1      No     Yes   817.180407  12106.134700\n",
       "2      No      No  1073.549164  31767.138947\n",
       "3      No      No   529.250605  35704.493935\n",
       "4      No      No   785.655883  38463.495879"
      ]
     },
     "execution_count": 5,
     "metadata": {},
     "output_type": "execute_result"
    }
   ],
   "source": [
    "df2 = pd.read_csv('Data/Default.csv', na_values='?').dropna()\n",
    "print(df2.shape)\n",
    "print()\n",
    "print(df2.describe())\n",
    "print()\n",
    "df2.info()\n",
    "df2.head(5)"
   ]
  },
  {
   "cell_type": "code",
   "execution_count": 6,
   "metadata": {},
   "outputs": [],
   "source": [
    "#X = df2.loc[:, [\"student\", \"balance\", \"income\"]] #student; balance; income\n",
    "X = df2.loc[:, [\"balance\", \"income\"]] #student; balance; income\n",
    "y = df2.loc[:, \"default\"] #default"
   ]
  },
  {
   "cell_type": "code",
   "execution_count": 7,
   "metadata": {},
   "outputs": [
    {
     "name": "stdout",
     "output_type": "stream",
     "text": [
      "Accuracy of each fold: \n",
      " [0.9495 0.955  0.9595 0.952  0.952 ]\n",
      "\n",
      "Avg accuracy: 0.9536\n"
     ]
    }
   ],
   "source": [
    "crossvalidation = KFold(n_splits=5, random_state=2, shuffle=True)\n",
    "knn = neighbors.KNeighborsClassifier(n_neighbors = 1)\n",
    "model = knn.fit(X, y)\n",
    "scores = cross_val_score(model, X, y, cv=crossvalidation)\n",
    "print('Accuracy of each fold: \\n {}'.format(scores))\n",
    "print()\n",
    "print(\"Avg accuracy: {}\".format(scores.mean()))"
   ]
  },
  {
   "cell_type": "code",
   "execution_count": 8,
   "metadata": {},
   "outputs": [
    {
     "name": "stdout",
     "output_type": "stream",
     "text": [
      "k is 1\n",
      "Accuracy of each fold: \n",
      " [0.9495 0.955  0.9595 0.952  0.952 ]\n",
      "Avg accuracy: 0.9536\n",
      "\n",
      "k is 2\n",
      "Accuracy of each fold: \n",
      " [0.9705 0.9675 0.9655 0.9685 0.9645]\n",
      "Avg accuracy: 0.9673\n",
      "\n",
      "k is 3\n",
      "Accuracy of each fold: \n",
      " [0.9635 0.9645 0.9645 0.9675 0.967 ]\n",
      "Avg accuracy: 0.9654\n",
      "\n",
      "k is 4\n",
      "Accuracy of each fold: \n",
      " [0.969  0.9685 0.9675 0.9675 0.966 ]\n",
      "Avg accuracy: 0.9677000000000001\n",
      "\n",
      "k is 5\n",
      "Accuracy of each fold: \n",
      " [0.9675 0.966  0.967  0.967  0.9675]\n",
      "Avg accuracy: 0.967\n",
      "\n",
      "k is 6\n",
      "Accuracy of each fold: \n",
      " [0.9705 0.9685 0.966  0.966  0.967 ]\n",
      "Avg accuracy: 0.9676\n",
      "\n",
      "k is 7\n",
      "Accuracy of each fold: \n",
      " [0.9675 0.9685 0.965  0.966  0.967 ]\n",
      "Avg accuracy: 0.9667999999999999\n",
      "\n",
      "k is 8\n",
      "Accuracy of each fold: \n",
      " [0.971  0.9675 0.965  0.966  0.9665]\n",
      "Avg accuracy: 0.9671999999999998\n",
      "\n",
      "k is 9\n",
      "Accuracy of each fold: \n",
      " [0.969  0.968  0.9645 0.965  0.967 ]\n",
      "Avg accuracy: 0.9667\n",
      "\n",
      "k is 10\n",
      "Accuracy of each fold: \n",
      " [0.9715 0.9685 0.965  0.9655 0.966 ]\n",
      "Avg accuracy: 0.9673\n",
      "\n"
     ]
    }
   ],
   "source": [
    "crossvalidation = KFold(n_splits=5, random_state=2, shuffle=True)\n",
    "\n",
    "result=[]\n",
    "for k in range(1,11):\n",
    "    # Your code here\n",
    "    knn = neighbors.KNeighborsClassifier(n_neighbors = k)\n",
    "    model = knn.fit(X, y)\n",
    "    \n",
    "    scores = cross_val_score(model, X, y, cv=crossvalidation)\n",
    "    print(\"k is\", k)\n",
    "    print('Accuracy of each fold: \\n {}'.format(scores))\n",
    "    print(\"Avg accuracy: {}\".format(scores.mean()))\n",
    "    print()\n",
    "    result.append(scores.mean())"
   ]
  },
  {
   "cell_type": "code",
   "execution_count": 9,
   "metadata": {},
   "outputs": [
    {
     "data": {
      "text/plain": [
       "[<matplotlib.lines.Line2D at 0x121e3fa00>]"
      ]
     },
     "execution_count": 9,
     "metadata": {},
     "output_type": "execute_result"
    },
    {
     "data": {
      "image/png": "[encoded data removed]",
      "text/plain": [
       "<Figure size 432x288 with 1 Axes>"
      ]
     },
     "metadata": {
      "image/png": {
       "height": 251,
       "width": 386
      },
      "needs_background": "light"
     },
     "output_type": "display_data"
    }
   ],
   "source": [
    "plt.plot(range(1,len(result)+1), result, '-o', markersize = 8)"
   ]
  },
  {
   "cell_type": "code",
   "execution_count": null,
   "metadata": {},
   "outputs": [],
   "source": []
  }
 ],
 "metadata": {
  "kernelspec": {
   "display_name": "Python 3 (ipykernel)",
   "language": "python",
   "name": "python3"
  },
  "language_info": {
   "codemirror_mode": {
    "name": "ipython",
    "version": 3
   },
   "file_extension": ".py",
   "mimetype": "text/x-python",
   "name": "python",
   "nbconvert_exporter": "python",
   "pygments_lexer": "ipython3",
   "version": "3.9.12"
  }
 },
 "nbformat": 4,
 "nbformat_minor": 4
}
